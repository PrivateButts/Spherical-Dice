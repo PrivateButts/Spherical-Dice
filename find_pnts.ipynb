{
 "cells": [
  {
   "cell_type": "code",
   "execution_count": 43,
   "id": "ad5c1311",
   "metadata": {},
   "outputs": [],
   "source": [
    "import trimesh\n",
    "import logging\n",
    "\n",
    "trimesh.util.attach_to_log(level=logging.INFO)"
   ]
  },
  {
   "cell_type": "code",
   "execution_count": 44,
   "id": "57216ca1",
   "metadata": {},
   "outputs": [],
   "source": [
    "MODEL = trimesh.load_mesh(\"ref/cube.stl\", enable_post_processing=True, solid=True)"
   ]
  },
  {
   "cell_type": "code",
   "execution_count": 45,
   "id": "8c5db2cb",
   "metadata": {},
   "outputs": [],
   "source": [
    "def find_center_of_facets(facets):\n",
    "    \"\"\"Takes a facet and returns the mean point of the faces.\"\"\"\n",
    "    expanded = []\n",
    "    for face_id in facets:\n",
    "        face = MODEL.faces[face_id]\n",
    "        for vert_id in face:\n",
    "            expanded.append(MODEL.vertices[vert_id])\n",
    "    return trimesh.points.k_means(expanded, 1)[0][0]\n",
    "\n",
    "def find_center_of_faces(face):\n",
    "    \"\"\"Takes a facet and returns the mean point of the faces.\"\"\"\n",
    "    expanded = []\n",
    "    for vert_id in face:\n",
    "        expanded.append(MODEL.vertices[vert_id])\n",
    "    return trimesh.points.k_means(expanded, 1)[0][0]\n"
   ]
  },
  {
   "cell_type": "code",
   "execution_count": 46,
   "id": "a85126ea",
   "metadata": {},
   "outputs": [
    {
     "name": "stdout",
     "output_type": "stream",
     "text": [
      "[-1.0000, 0.0000, 0.0000],\n",
      "[0.0000, 1.0000, 0.0000],\n",
      "[1.0000, 0.0000, 0.0000],\n",
      "[0.0000, -1.0000, 0.0000],\n",
      "[0.0000, 0.0000, -1.0000],\n",
      "[0.0000, 0.0000, 1.0000],\n"
     ]
    }
   ],
   "source": [
    "face_centers = []\n",
    "if MODEL.facets:\n",
    "    for facet in MODEL.facets:\n",
    "        center = find_center_of_facets(facet)\n",
    "        print(\"[{:.4f}, {:.4f}, {:.4f}],\".format(center[0], center[1], center[2]))\n",
    "        face_centers.append(center)\n",
    "else:\n",
    "    for face in MODEL.faces:\n",
    "        center = find_center_of_faces(face)\n",
    "        print(\"[{:.4f}, {:.4f}, {:.4f}],\".format(center[0], center[1], center[2]))\n",
    "        face_centers.append(center)"
   ]
  }
 ],
 "metadata": {
  "kernelspec": {
   "display_name": ".venv",
   "language": "python",
   "name": "python3"
  },
  "language_info": {
   "codemirror_mode": {
    "name": "ipython",
    "version": 3
   },
   "file_extension": ".py",
   "mimetype": "text/x-python",
   "name": "python",
   "nbconvert_exporter": "python",
   "pygments_lexer": "ipython3",
   "version": "3.13.3"
  }
 },
 "nbformat": 4,
 "nbformat_minor": 5
}
