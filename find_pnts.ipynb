{
 "cells": [
  {
   "cell_type": "code",
   "execution_count": 1,
   "id": "ad5c1311",
   "metadata": {},
   "outputs": [],
   "source": [
    "import trimesh\n",
    "import logging\n",
    "\n",
    "trimesh.util.attach_to_log(level=logging.INFO)"
   ]
  },
  {
   "cell_type": "code",
   "execution_count": 2,
   "id": "57216ca1",
   "metadata": {},
   "outputs": [],
   "source": [
    "MODEL = trimesh.load_mesh(\"ref/icosahedron.stl\", enable_post_processing=True, solid=True)"
   ]
  },
  {
   "cell_type": "code",
   "execution_count": 8,
   "id": "8c5db2cb",
   "metadata": {},
   "outputs": [],
   "source": [
    "def find_center_of_face(face):\n",
    "    \"\"\"Takes a face and returns the vertices of the face.\"\"\"\n",
    "    expanded = []\n",
    "    for vert_id in face:\n",
    "        expanded.append(MODEL.vertices[vert_id])\n",
    "    return trimesh.points.k_means(expanded, 1)[0][0]\n"
   ]
  },
  {
   "cell_type": "code",
   "execution_count": 15,
   "id": "a85126ea",
   "metadata": {},
   "outputs": [
    {
     "name": "stdout",
     "output_type": "stream",
     "text": [
      "[0.7371, -0.2395, -0.1480],\n",
      "[0.4556, -0.6270, 0.1480],\n",
      "[0.0000, -0.7750, -0.1480],\n",
      "[0.0000, 0.7750, 0.1480],\n",
      "[0.4556, 0.6270, -0.1480],\n",
      "[0.7371, 0.2395, 0.1480],\n",
      "[-0.7371, -0.2395, -0.1480],\n",
      "[-0.7371, 0.2395, 0.1480],\n",
      "[-0.4556, 0.6270, -0.1480],\n",
      "[-0.2815, 0.3875, -0.6270],\n",
      "[0.2815, 0.3875, -0.6270],\n",
      "[0.4556, -0.1480, -0.6270],\n",
      "[0.2815, -0.3875, 0.6270],\n",
      "[-0.2815, -0.3875, 0.6270],\n",
      "[0.0000, -0.4790, -0.6270],\n",
      "[-0.4556, -0.1480, -0.6270],\n",
      "[-0.4556, -0.6270, 0.1480],\n",
      "[-0.4556, 0.1480, 0.6270],\n",
      "[0.0000, 0.4790, 0.6270],\n",
      "[0.4556, 0.1480, 0.6270],\n"
     ]
    }
   ],
   "source": [
    "face_centers = []\n",
    "for face in MODEL.faces:\n",
    "    center = find_center_of_face(face)\n",
    "    print(\"[{:.4f}, {:.4f}, {:.4f}],\".format(center[0], center[1], center[2]))\n",
    "    face_centers.append(center)"
   ]
  }
 ],
 "metadata": {
  "kernelspec": {
   "display_name": ".venv",
   "language": "python",
   "name": "python3"
  },
  "language_info": {
   "codemirror_mode": {
    "name": "ipython",
    "version": 3
   },
   "file_extension": ".py",
   "mimetype": "text/x-python",
   "name": "python",
   "nbconvert_exporter": "python",
   "pygments_lexer": "ipython3",
   "version": "3.13.3"
  }
 },
 "nbformat": 4,
 "nbformat_minor": 5
}
